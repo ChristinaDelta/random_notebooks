{
 "cells": [
  {
   "cell_type": "markdown",
   "metadata": {},
   "source": [
    "# Analysis of Reaction Times data with Pandas Dataframes \n",
    "\n",
    "### *Task Desciption*\n",
    "\n",
    "The reaction times data come from a simple **rt's** task where participants were asked to report whether the item presented was animate or inanimate. Every item was presented for 200ms, with ISI 2sec and participants were given max 2sec to respond.\n",
    "\n",
    "\n",
    "### The items (images) belong to 8 categories:\n",
    "* plants\n",
    "* food \n",
    "* man-made objects  \n",
    "* natural scenes\n",
    "* animal bodies\n",
    "* animal faces\n",
    "* human bodies\n",
    "* human faces\n",
    "\n",
    "### Experiment parameters:\n",
    "**Nb of items:** 48  \n",
    "**Nb of categories:** 8   \n",
    "**Responses:** Animate/Inanimate  \n",
    "**Nb of item repetitions:** 20  \n",
    "**Nb of runs:** 8  \n",
    "**Nb of subjects:** 15   \n",
    "\n",
    "\n",
    "\n",
    "#### Load libraries:"
   ]
  },
  {
   "cell_type": "code",
   "execution_count": null,
   "metadata": {},
   "outputs": [],
   "source": [
    "import pandas as pd\n",
    "import numpy as np\n",
    "import matplotlib.pyplot as plt"
   ]
  },
  {
   "cell_type": "code",
   "execution_count": null,
   "metadata": {},
   "outputs": [],
   "source": [
    "# load the data:\n",
    "data = pd.read_csv(\"./allrt_data.csv\")\n",
    "# quick check\n",
    "data.head(10)"
   ]
  },
  {
   "cell_type": "code",
   "execution_count": null,
   "metadata": {},
   "outputs": [],
   "source": []
  }
 ],
 "metadata": {
  "kernelspec": {
   "display_name": "Python 3",
   "language": "python",
   "name": "python3"
  },
  "language_info": {
   "codemirror_mode": {
    "name": "ipython",
    "version": 3
   },
   "file_extension": ".py",
   "mimetype": "text/x-python",
   "name": "python",
   "nbconvert_exporter": "python",
   "pygments_lexer": "ipython3",
   "version": "3.7.7"
  }
 },
 "nbformat": 4,
 "nbformat_minor": 4
}
