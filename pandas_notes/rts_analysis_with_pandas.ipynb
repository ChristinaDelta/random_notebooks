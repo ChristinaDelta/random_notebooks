{
 "cells": [
  {
   "cell_type": "markdown",
   "metadata": {},
   "source": [
    "# Analysis of Reaction Times data with Pandas Dataframes \n",
    "\n",
    "### *Task Desciption*\n",
    "\n",
    "The reaction times data come from a simple **rt's** task where participants were asked to report whether the item presented was animate or inanimate. Every item was presented for 200ms, with ISI 2sec and participants were given max 2sec to respond.\n",
    "\n",
    "#### Response keys and codes:\n",
    "\n",
    "* 1: Animate\n",
    "* 2: Inanimate\n",
    "\n",
    "\n",
    "### The items (images) belong to 8 categories:\n",
    "* plants\n",
    "* food \n",
    "* man-made objects  \n",
    "* natural scenes\n",
    "* animal bodies\n",
    "* animal faces\n",
    "* human bodies\n",
    "* human faces\n",
    "\n",
    "### Experiment parameters:\n",
    "**Nb of items:** 48  \n",
    "**Nb of categories:** 8   \n",
    "**Responses:** Animate/Inanimate  \n",
    "**Nb of item repetitions:** 20  \n",
    "**Nb of runs:** 8  \n",
    "**Nb of subjects:** 15   \n",
    "\n",
    "\n",
    "\n",
    "#### Load libraries:"
   ]
  },
  {
   "cell_type": "code",
   "execution_count": null,
   "metadata": {},
   "outputs": [],
   "source": [
    "import pandas as pd\n",
    "import numpy as np\n",
    "import matplotlib.pyplot as plt\n",
    "\n",
    "%matplotlib inline"
   ]
  },
  {
   "cell_type": "markdown",
   "metadata": {},
   "source": [
    "#### Load the rts data as a pandas dataframe (df)\n",
    "\n",
    "Just to make things easier, I have the csv files in the same directory as the notebook.\n",
    "The command to load a csv file as a dataframe is:\n",
    "```pd.read_csv```"
   ]
  },
  {
   "cell_type": "code",
   "execution_count": null,
   "metadata": {},
   "outputs": [],
   "source": [
    "# load the data:\n",
    "data = pd.read_csv(\"./allrt_data.csv\")\n",
    "\n",
    "# quick check\n",
    "data.head(10)"
   ]
  },
  {
   "cell_type": "markdown",
   "metadata": {},
   "source": [
    "#### Looking at your imported dataframe (df) \n",
    "\n",
    "The command ```.head()``` shows the top rows of your df, and the command ```.tail()``` shows the bottom rows. You can specify the number of rows inside the parentheses. If left blank, the default number of rows is **5**.\n",
    "\n",
    "Pandas dataframes are python's powerfull data structures (like tables) with multiple rows and columns, and tables need headers in order to be easily readable. Since our df doesn't have headers yet, we need to create them. \n",
    "\n",
    "#### Adding headers to our new dataframe"
   ]
  },
  {
   "cell_type": "code",
   "execution_count": null,
   "metadata": {},
   "outputs": [],
   "source": [
    "# add headers\n",
    "headers = [\"subNo\", \"item\", \"animacy\", \"category\", \"rt\", \"response\", \"correct\"]\n",
    "\n",
    "data.columns = headers\n",
    "\n",
    "# in python indexing starts with zero, thus, subject one is actually zero. Change indexing\n",
    "data[\"subNo\"] = data[\"subNo\"] - 1\n",
    "\n",
    "# quick check\n",
    "data.head()"
   ]
  },
  {
   "cell_type": "markdown",
   "metadata": {},
   "source": [
    "#### Read the columns and rows \n",
    "\n",
    "to just look at the column names type ```data.column```. **Note**: *data* is the name that I've given to my dataframe.\n",
    "\n",
    "We can use the **iloc** command to go through the rows (all or specific rows)"
   ]
  },
  {
   "cell_type": "code",
   "execution_count": null,
   "metadata": {},
   "outputs": [],
   "source": [
    "# Read Headers\n",
    "data.columns\n",
    "\n",
    "'''\n",
    "# Read Each Row\n",
    "print(data.iloc[0:4]) # shows the first 4 rows \n",
    "\n",
    "# go through all the rows of a given column\n",
    "for index, row in data.iterrows():\n",
    "    print(index, row['subNo'])\n",
    "    \n",
    "# read specific rows of a given column \n",
    "data.loc[data['subNo'] == 0] '''\n",
    "\n",
    "# read specific locations\n",
    "print(data.iloc[2,1]) # in the brackets the first value is the row and the second is the column (row 2, column 1)"
   ]
  },
  {
   "cell_type": "markdown",
   "metadata": {},
   "source": [
    "#### Changing the data\n",
    "\n",
    "At times you may need to convert your data in order to manipulate or analyse your dataset easily. With python dataframes this is very straightforward "
   ]
  },
  {
   "cell_type": "code",
   "execution_count": null,
   "metadata": {},
   "outputs": [],
   "source": [
    "# as an expample of manipulating and changing our data, let's change the 3rd row (animate/inanimate condition). \n",
    "# Now it's 1 for animate and 2 for inanimate. Let's convert the values to strings using python dictionaries:\n",
    "animate = {1: 'animate', 2: 'inanimate'}\n",
    "data.animacy = [animate[i] for i in data.animacy]\n",
    "print(data)"
   ]
  },
  {
   "cell_type": "markdown",
   "metadata": {},
   "source": [
    "#### Visualizing our correct vs incorrect responses in a very readable way\n",
    "Our response options are coded as: 1 for animate and 2 for inanimate items. And in thr last column we have the correct and incorrect responses (1: correct and 0:incorrect). We can flip the incorrect responses to negative to visualize the total responses"
   ]
  },
  {
   "cell_type": "code",
   "execution_count": null,
   "metadata": {},
   "outputs": [],
   "source": [
    "# add a column of subject number (in fact, copy the column from the original dataset) to the rts_negative df\n",
    "data_negative = pd.DataFrame()\n",
    "\n",
    "# select columns to be copied from one df to another \n",
    "selected_columns = data[[\"subNo\", \"rt\"]]\n",
    "data_negative = selected_columns.copy()\n",
    "\n",
    "\n",
    "# flip error rts (0) to -1 and visualize:\n",
    "data_negative['flipped'] = data['correct'].replace(0, -1)\n",
    "\n",
    "# let's check\n",
    "print(data_negative)"
   ]
  },
  {
   "cell_type": "code",
   "execution_count": null,
   "metadata": {},
   "outputs": [],
   "source": [
    "# look at the rts distribution (on the left are the incorrect responses and on the right are the correct ones)\n",
    "fig = plt.figure()\n",
    "ax = fig.add_subplot(111, xlabel='rt', ylabel='count', title='rt distribution')\n",
    "\n",
    "for i, subj_data in data_negative.groupby('subNo'):\n",
    "    subj_data.rt.hist(bins=20, histtype='step', ax=ax)\n",
    "\n",
    "# save the figure \n",
    "plt.savefig('rts_distribution.pdf')"
   ]
  },
  {
   "cell_type": "markdown",
   "metadata": {},
   "source": [
    "#### Saving our newly created dataframe \n",
    "\n",
    "Sometimes we may create a new df while working on the original one (as we did above) and we may need to save it in a desirable format (csv, xls, txt) in order to use it again later. Let's do that:"
   ]
  },
  {
   "cell_type": "code",
   "execution_count": null,
   "metadata": {},
   "outputs": [],
   "source": [
    "# save to csv file:\n",
    "data_negative.to_csv('modified_rts.csv', index=False)\n",
    "\n",
    "'''\n",
    "# save to xls file\n",
    "data_negative.to_excel('modified_rts.xlsx', index=False)\n",
    "\n",
    "# save to txt file\n",
    "data_negative.to_csv('modified_rts.txt', index=False, sep='\\t')'''"
   ]
  },
  {
   "cell_type": "code",
   "execution_count": null,
   "metadata": {},
   "outputs": [],
   "source": []
  }
 ],
 "metadata": {
  "kernelspec": {
   "display_name": "Python 3",
   "language": "python",
   "name": "python3"
  },
  "language_info": {
   "codemirror_mode": {
    "name": "ipython",
    "version": 3
   },
   "file_extension": ".py",
   "mimetype": "text/x-python",
   "name": "python",
   "nbconvert_exporter": "python",
   "pygments_lexer": "ipython3",
   "version": "3.7.7"
  }
 },
 "nbformat": 4,
 "nbformat_minor": 4
}
