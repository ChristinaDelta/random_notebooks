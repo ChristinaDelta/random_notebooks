{
 "cells": [
  {
   "cell_type": "markdown",
   "metadata": {},
   "source": [
    "# Working with NumPy arrays\n",
    "\n",
    "This notebook contains basic information on how to work with python numpy arrays \n",
    "\n",
    "If you don't already have the numpy library (if you are working with anaconda it's already included) you can install it using pip: ```pip install numpy```\n",
    "\n",
    "#### Import libraries"
   ]
  },
  {
   "cell_type": "code",
   "execution_count": null,
   "metadata": {},
   "outputs": [],
   "source": [
    "import numpy as np"
   ]
  },
  {
   "cell_type": "markdown",
   "metadata": {},
   "source": [
    "#### Create a few basic numpy (or np) arrays"
   ]
  },
  {
   "cell_type": "code",
   "execution_count": null,
   "metadata": {},
   "outputs": [],
   "source": [
    "first_np = np.array([1,2,3], dtype = 'int32')\n",
    "print(first_np)\n",
    "\n"
   ]
  },
  {
   "cell_type": "markdown",
   "metadata": {},
   "source": [
    "The **first_np** array above is a simple 1d array.\n",
    "\n",
    "Let's add more dimensions and explore the arrays a bit\n",
    "\n",
    "First make another array with 2 dimensions (e.g. 2 by 5) and look at some basic characteristics of your array. "
   ]
  },
  {
   "cell_type": "code",
   "execution_count": null,
   "metadata": {},
   "outputs": [],
   "source": [
    "np_two = np.array([[2.0, 4.0, 6.0, 8.0, 10], [1.0, 3.0, 5.0, 7.0, 9.0]]) # 2d array\n",
    "print(np_two)"
   ]
  },
  {
   "cell_type": "code",
   "execution_count": null,
   "metadata": {},
   "outputs": [],
   "source": [
    "# To check each characteristic run it one-by-one (leave only one uncommented each time, otherwise you will always get \n",
    "# the output of the last line)\n",
    "\n",
    "first_np.ndim # look at the dimensions of the 1st array\n",
    "\n",
    "#np_two.ndim # look at the dimensions of the 2nd array\n",
    "#np_two.shape # look at the shape of 2nd array\n",
    "#np_two.dtype # look at the data type of the 2nd array\n",
    "#np_two.itemsize # look at the size of the 2nd array\n",
    "#np_two.size # look at the number of items (elements) in the 2nd array"
   ]
  },
  {
   "cell_type": "code",
   "execution_count": null,
   "metadata": {},
   "outputs": [],
   "source": []
  }
 ],
 "metadata": {
  "kernelspec": {
   "display_name": "Python 3",
   "language": "python",
   "name": "python3"
  },
  "language_info": {
   "codemirror_mode": {
    "name": "ipython",
    "version": 3
   },
   "file_extension": ".py",
   "mimetype": "text/x-python",
   "name": "python",
   "nbconvert_exporter": "python",
   "pygments_lexer": "ipython3",
   "version": "3.7.7"
  }
 },
 "nbformat": 4,
 "nbformat_minor": 4
}
