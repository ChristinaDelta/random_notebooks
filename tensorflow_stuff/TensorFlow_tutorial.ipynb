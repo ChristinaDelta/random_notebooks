{
 "cells": [
  {
   "cell_type": "markdown",
   "metadata": {},
   "source": [
    "### TensorFlow Beginners cource\n",
    "\n",
    "Taken from Tim Ruscica's cource **TensorFlow 2.0** featured in FreeCodeCamp."
   ]
  },
  {
   "cell_type": "code",
   "execution_count": null,
   "metadata": {},
   "outputs": [],
   "source": [
    "import numpy as np\n",
    "import pandas as pd\n",
    "import tensorflow as tf\n",
    "print(tf.version)"
   ]
  },
  {
   "cell_type": "code",
   "execution_count": null,
   "metadata": {},
   "outputs": [],
   "source": [
    "# create some tensors. These tensors are of shape 1 (they have 1 value-- scalars)\n",
    "string = tf.Variable('this is a string', tf.string)\n",
    "number = tf.Variable(20, tf.int16)\n",
    "floating = tf.Variable(24.5, tf.float64)\n",
    "print(string)"
   ]
  },
  {
   "cell_type": "code",
   "execution_count": null,
   "metadata": {},
   "outputs": [],
   "source": [
    "# rank/degree of tensors\n",
    "rank1_tensor = tf.Variable(['test', 'how', 'ok'], tf.string)\n",
    "rank2_tensor = tf.Variable([['test', 'ok', 'ok'], ['test', 'yes', 'ok']], tf.string)"
   ]
  },
  {
   "cell_type": "code",
   "execution_count": null,
   "metadata": {},
   "outputs": [],
   "source": [
    "# check the rank number of a tensor\n",
    "tf.rank(rank1_tensor)\n",
    "#print(rank1_tensor)"
   ]
  },
  {
   "cell_type": "code",
   "execution_count": null,
   "metadata": {},
   "outputs": [],
   "source": [
    "# shape of a tensor\n",
    "rank2_tensor.shape"
   ]
  },
  {
   "cell_type": "code",
   "execution_count": null,
   "metadata": {},
   "outputs": [],
   "source": [
    "# changing the shape of a tensor\n",
    "tensor1 = tf.ones([1,2,3])\n",
    "tensor2 = tf.reshape(tensor1, [2,3,1])\n",
    "tensor3 = tf.reshape(tensor2, [3, -1]) # 3 lists of 2 elements. We could have written it as tensor3 = tf.reshape(tensor2, [3, 2]):\n",
    "tensor4 = tf.reshape(tensor2, [3, 2])"
   ]
  },
  {
   "cell_type": "code",
   "execution_count": null,
   "metadata": {
    "scrolled": true
   },
   "outputs": [],
   "source": [
    "print(tensor1)\n",
    "print(tensor2)\n",
    "print(tensor3) \n",
    "print(tensor4) \n",
    "# tf.rank(tensor2)\n",
    "tf.rank(tensor3)"
   ]
  },
  {
   "cell_type": "code",
   "execution_count": null,
   "metadata": {},
   "outputs": [],
   "source": [
    "# play around uisng the reshape atribute\n",
    "t1 = tf.zeros([6,5,5])\n",
    "t2 = tf.reshape(t1, [150])\n",
    "t3 = tf.reshape(t2, [25, -1])"
   ]
  },
  {
   "cell_type": "code",
   "execution_count": null,
   "metadata": {},
   "outputs": [],
   "source": [
    "print(t1)\n",
    "print(t2)\n",
    "print(t3)"
   ]
  },
  {
   "cell_type": "code",
   "execution_count": null,
   "metadata": {},
   "outputs": [],
   "source": [
    "# create a tensor with the shape(4,3), 4 lists with 3 elements = 12 elements total\n",
    "test_tensor = tf.Variable([['test', 'how', 'ok'], ['how', 'ok', 'where'], ['when', 'ok', 'ok'], ['row', 'how', 'ok']], tf.string)\n",
    "\n",
    "# re-arrange those elements 2 lists with 3 elemnts each (2,3)\n",
    "test2_tensor = tf.reshape(test_tensor, [3,4])\n",
    "\n",
    "# re-arrange them again to 1 big list that contains 2 smaller lists that contain 6 elements\n",
    "test3_tensor = tf.reshape(test2_tensor, [1,2,6])"
   ]
  },
  {
   "cell_type": "code",
   "execution_count": null,
   "metadata": {},
   "outputs": [],
   "source": [
    "print(test_tensor)\n",
    "print(test2_tensor)\n",
    "print(test3_tensor) "
   ]
  },
  {
   "cell_type": "code",
   "execution_count": null,
   "metadata": {},
   "outputs": [],
   "source": [
    "# evaluate a tensor \n",
    "# with tf.Session() as sess: # this creates a session using the default graph\n",
    "#    tensor.eval() # tensor here is the name of the tensor that we want to evaluate"
   ]
  },
  {
   "cell_type": "code",
   "execution_count": null,
   "metadata": {},
   "outputs": [],
   "source": []
  }
 ],
 "metadata": {
  "kernelspec": {
   "display_name": "Python 3",
   "language": "python",
   "name": "python3"
  },
  "language_info": {
   "codemirror_mode": {
    "name": "ipython",
    "version": 3
   },
   "file_extension": ".py",
   "mimetype": "text/x-python",
   "name": "python",
   "nbconvert_exporter": "python",
   "pygments_lexer": "ipython3",
   "version": "3.7.7"
  }
 },
 "nbformat": 4,
 "nbformat_minor": 4
}
