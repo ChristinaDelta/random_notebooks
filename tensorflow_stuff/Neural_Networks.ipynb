{
 "cells": [
  {
   "cell_type": "markdown",
   "metadata": {},
   "source": [
    "## NEURAL NETWORKS WITH TENSORFLOW\n",
    "\n",
    "I will be using information and examples based on the TensorFlow 2.0 course provided by the FreeCodeCamp and the TensorFlow documentation [link](https://www.tensorflow.org/tutorials/keras/classification).\n",
    "\n",
    "In this notebook I will provide information on how to create and use a neural network to classify articles of clothing. To achieve this, I will use a sub module of TensorFlow called **keras**.\n",
    "\n",
    "**What is Keras?**\n",
    "\n",
    "Keras is a high-level neural networks API, written in Python and capable of running on top of TensorFlow, CNTK, or Theano. It was developed with a focus on enabling fast experimentation.\n",
    "\n",
    "Use Keras if you need a deep learning library that:\n",
    "* Allows for easy and fast prototyping (through user friendliness, modularity, and extensibility)\n",
    "* Supports both convolutional networks and recurrent networks, as well as combinations of the two\n",
    "* Runs seamlessly on CPU and GPU\n",
    "\n",
    "With keras we don't have to build neural networks from scratch. It hides a lot of mathematical complexity (that otherwise we would have to implement) inside of helpful packages, modules and methods, thus, making it very easy to work with neural networks."
   ]
  },
  {
   "cell_type": "code",
   "execution_count": 1,
   "metadata": {},
   "outputs": [],
   "source": [
    "# TensorFlow and tf.keras\n",
    "import tensorflow as tf\n",
    "from tensorflow import keras\n",
    "\n",
    "import numpy as np\n",
    "import pandas as pd\n",
    "import matplotlib.pyplot as plt"
   ]
  },
  {
   "cell_type": "code",
   "execution_count": 2,
   "metadata": {},
   "outputs": [
    {
     "name": "stdout",
     "output_type": "stream",
     "text": [
      "2.1.0\n"
     ]
    }
   ],
   "source": [
    "print(tf.__version__)"
   ]
  },
  {
   "cell_type": "markdown",
   "metadata": {},
   "source": [
    "Let's start with some theoritical information before diving into creating a Neural Network:\n",
    "\n",
    "* What is a Neural Network?\n",
    "* How does a Neural Network work?\n",
    "* What is the math involved in Neural Networks?\n",
    "* What is back propagetion?\n",
    "* What is gradient descent?\n",
    "* How information actually flows through the network?\n",
    "\n",
    "Neural Networks are complex. There are a lot of components that go into them. Here, I will try to write as much theoretical information as possible and explain things part by part before combining everything in the end.\n",
    "\n",
    "### What are Neural Networks and how do they work\n",
    "\n",
    "##### what's a neural network?\n",
    "\n",
    "Let's start simple. The whole point of a neural network is to provide classification or predictions.\n",
    "We have some input information, we feed that information to the neural network and then we want it to give us some output. As previously mentioned a neural network is a layered representation of data(information), and normally in neural networks we have **multiple layers**. In the core machine learning algorithms (like linear regression) data was not transformed or modified within the model, it simply existed in one layer. We passed some features to our model, some math was done, an answer (label) was returned. The data was not changed or transformed throughout this process.\n",
    "\n",
    "A neural network processes our data differently. It attempts to represent our data in different ways and in different dimensions by applying specific operations to transform our data at each layer. Another way to express this is that at each layer our data is transformed in order to learn more about it. By performing these transformations, the model can better understand our data and therefore provide a better **prediction**.\n",
    "\n",
    "##### what's a neural network made of?\n",
    "\n",
    "The architecture of a Neural Network is as follows:\n",
    "\n",
    "* Input layer\n",
    "* Hidden Layer(s)\n",
    "* Output Layer\n",
    "* Neurons(nodes)\n",
    "* Connected Layers \n",
    "\n",
    "![Imgur](https://i.imgur.com/3NO9kj6.png) \n",
    "\n",
    "As we mentioned earlier each neural network consists of multiple layers. At each layer a different transformation of data occurs. Our initial input data is fed through the layers and eventually arrives at the output layer where we will obtain the result.\n",
    "\n",
    "**Input layer**\n",
    "\n",
    "The input layer is the layer that our initial (raw) data is passed to. It is the first layer in our neural network. \n",
    "\n",
    "**Hidden Layer(s)**\n",
    "\n",
    "Hidden Layers exist between the Input Layer and the Output Layer. The reason they are called *hidden* is because they are hidden to us, we cannot observe them. Most neural networks consist of at least one hidden layer but can have an unlimited amount. Typically, the more complex the model the more hidden layers.\n",
    "\n",
    "**Output Layer**\n",
    "\n",
    "The output layer is the layer that we will retrive our results from. Once the data has passed through all other layers it will arrive here.\n",
    "\n",
    "**Neurons**\n",
    "\n",
    "Each layer is made up of neurons. Neurons are responsible for generating/holding/passing ONE numeric value.\n",
    "For example, our input layer will have as many neurons as we have input information. Let's say we want to pass an image that is of 3x3 pixels, thats 9 pixels. This means that we would need 9 neurons in our input layer to hold each of these pixels.\n",
    "\n",
    "This also means that our output layer will have as many neurons as we have output information. The output is a little bit more complicated to understand and will be discussed later.\n",
    "\n",
    "But what about our **hidden layers**? Well these can have as many neurons as we decide. We'll discuss how we can pick these values later but understand a hidden layer can have any number of neurons.\n",
    "\n",
    "**Connected Layers**\n",
    "\n",
    "So how are all these layers connected? Well the neurons in one layer will be connected to neurons in the subsequent layer. However, the neurons can be connected in a variety of different ways.\n",
    "Take for example the figure above. Each neuron in one layer is connected to every neuron in the next layer. This is called a **dense layer**. There are many other ways of connecting layers but well discuss those as we see them.\n",
    "\n",
    "### Weights and Biases\n",
    "\n",
    "#### Weights\n",
    "\n",
    "Weights are associated with each connection in our neural network. Every pair of connected nodes will have one weight that denotes the strength of the connection between them. These are vital to the inner workings of a neural network and will be tweaked as the neural network is trained. The model will try to determine what these weights should be to achieve the best result. Weights start out at a constant or random value and will change as the network sees training data.\n",
    "\n",
    "#### Biases\n",
    "\n",
    "Biases are another important part of neural networks and will also be tweaked as the model is trained. A bias is simply a constant value associated with each layer. It can be thought of as an extra neuron that has no connections. The purpose of a bias is to shift an entire **activation function** by a constant value. This allows a lot more flexibllity when it comes to choosing an activation and training the network. There is one bias for each layer.\n",
    "\n",
    "I'll discuss **activation functions** in more detail later.\n",
    "\n",
    "### Types of Data\n",
    "\n",
    "The type of data a neural network processes varies drastically based on the problem being solved. When we build a neural network, we define what shape and kind of data it can accept. It may sometimes be neccessary to modify our dataset so that it can be passed to our neural network.\n",
    "\n",
    "Some common types of data a neural network uses are the following:\n",
    "\n",
    "* Vector Data (2D)\n",
    "* Timeseries or Sequence (3D)\n",
    "* Image Data (4D)\n",
    "* Video Data (5D)\n",
    "\n",
    "There are of course many different types or data, but these are the main categories.\n",
    "\n",
    "### A few things about the math involved in Neural Networks\n",
    "\n",
    "On a lower level neural networks are simply a combination of elementry math operations and some more advanced linear algebra. Each neural network consists of a sequence of layers in which data passes through. These layers are made up on neurons and the neurons of one layer are connected to the next (as previously mentioned). These connections are defined by a weight (some numeric value). Each layer also has a bias, this is simply an extra neuron that has no connections and holds a single numeric value. Data starts at the input layer and is trasnformed as it passes through subsequent layers. The data at each subsequent neuron is defined as the following:\n",
    "\n",
    "$Y =(\\sum_{i=0}^n w_i x_i) + b$\n",
    "\n",
    "where,\n",
    "\n",
    "$w$ stands for the weight of each connection to the neuron\n",
    "\n",
    "$x$ stands for the value of the connected neuron from the previous value\n",
    "\n",
    "$b$ stands for the bias at each layer (this is a constant)\n",
    "\n",
    "$n$ is the number of connections\n",
    "\n",
    "$Y$ is the output of the current neuron\n",
    "\n",
    "$\\sum$ stands for sum\n",
    "\n",
    "The equation above is called a weighed sum. We will take this weighted sum at each and every neuron as we pass information through the network. Then we will add what's called a bias to this sum. The bias allows us to shift the network up or down by a constant value. It is like the y-intercept of a line.\n",
    "\n",
    "#### Activation Function\n",
    "\n",
    "The above equation is the not a complete one! We forgot a crucial part, the **activation function**. This is a function that we apply to the equation seen above to add complexity and dimensionality to our network. Our new equation with the addition of an activation function $F(x)$ is seen below:\n",
    "\n",
    "$Y =F((\\sum_{i=0}^n w_i x_i) + b)$\n",
    "\n",
    "Our network will start with predefined activation functions (they may be different at each layer) but the weights and biases are random. As we train the network by feeding it data it will learn the correct weights and biases and adjust the network accordingly using a technqiue called **backpropagation** (explained later). Once the correct weights and biases have been learned our network will hopefully be able to give us meaningful predictions. We get these predictions by observing the values at our final layer, the output layer. Take a look at the image/figure below:\n",
    "\n",
    "![Imgur](https://i.imgur.com/14R7Kmp.png)\n",
    "\n",
    "Activation functions reside within neurons, but not all neurons (as seen in the figure 2 above). Hidden and output layer neurons use activation functions, but input layer neurons do not.\n",
    "Activation functions perform a transformation on the input received, in order to keep values within a manageable range. Since values in the input layers are generally centered around zero and have already been appropriately scaled, they do not require transformation. However, these values, once multiplied by weights, summed (and once we add the bias at the end as in the equation above) quickly get beyond the range of their original scale, which is where the activation functions come into play, forcing values back within this acceptable range and making them useful.\n",
    "\n",
    "In order to be useful, activation functions must also be **nonlinear** and **continuously differentiable**. Nonlinearity allows the neural network to be a universal approximation; a continuously differentiable function is necessary for gradient-based optimization methods, which is what allows the efficient back propagation of errors throughout the network and will be discussed in detail below. \n",
    "\n",
    "Inside the neuron:\n",
    "\n",
    "* an activation function is assigned to the neuron or entire layer of neurons\n",
    "* weighted sum of input values are added up\n",
    "* the activation function is applied to weighted sum of input values and transformation takes place\n",
    "* the output to the next layer consists of this transformed value\n",
    "\n",
    "#### Types of Activation Functions\n",
    "\n",
    "Theoretically any number of functions could be used as activation functions, as long as they meet the above requirements. However, a small number of functions are most relied upon. Let's see these functions as well as their shapes:\n",
    "\n",
    "![Imgur](https://i.imgur.com/J2gHgts.png)\n",
    "\n",
    "**Sigmoid**\n",
    "\n",
    "The sigmoid function \"squashes\" values to the range 0 and 1 and it is mainly used for binary classification in the output layer.\n",
    "\n",
    "**Tanh**\n",
    "\n",
    "The tanh function \"squashes\" values to the range -1 and 1. The output values are, therefore, centered around zero and it can be thought of as a scaled, or shifted, sigmoid. This is why it is almost always preferable to the sigmoid function.\n",
    "\n",
    "**Rectified Linear Unit (ReLU)**\n",
    "\n",
    "This activation function takes the form of $f(x) = max(0, x)$. Transformation leads positive values to be 1, and negative values to be zero. It is considered to accelerate convergence of gradient descent compared to above functions and it has become the default activation function for hidden layers.\n",
    "\n",
    "### What is Backpropagation? \n",
    "\n",
    "Backpropagation is the fundemental algorithm behind training neural networks. It is what changes the weights and biases of our network. To fully explain this process, we need to discuss and understand something called a **cost/loss function**.\n",
    "\n",
    "#### cost/loss function\n",
    "\n",
    "So far we know that a neural network holds, transforms and passes information through the layers until it eventually reaches an output layer. The output layer contains the results that we look at to determine the prediciton from our network. In the training phase it is likely that our network will make many mistakes and poor predicitions. In fact, at the beginning of training, our network doesn't know anything (remeber, it has random weights and biases)!\n",
    "\n",
    "We need some way of evaluating if the network is doing well and how well it is doing. For our training data we have the features (input) and the labels (expected output). This way we can compare the output from our network to the expected output. Based on the difference between these values we can determine if our network has done a good job or a bad job. If the network has done a good job, we'll make minor changes to the weights and biases. If it has done a bad job, our changes may be more drastic.\n",
    "\n",
    "So, this is where the **cost/loss function** comes in. This function is responsible for determining how well the network did. We pass it the network's output and the expected output, and it returns to us some value representing the cost/loss of the network. This effectively makes the network's job to optimize this cost function, trying to make it as low as possible (the lower the value that this function gives us the better).\n",
    "\n",
    "Here is a list of a few common loss/cost functions:\n",
    "\n",
    "* Mean Squared Error\n",
    "* Mean Absolute Error\n",
    "* Hinge Loss\n",
    "\n",
    "#### Gradient Descent\n",
    "\n",
    "Gradient descent and backpropagation are closely related. Gradient descent is the algorithm used to find the optimal paramaters (weights and biases) for our network, while backpropagation is the process of calculating the gradient that is used in the gradient descent step.\n",
    "\n",
    "Gradient descent requires some pretty advanced calculus and linear algebra to understand so I will stay away from that for now. Let's see the formal definition:\n",
    "*Gradient descent is an optimization algorithm used to minimize some function by iteratively moving in the direction of steepest descent as defined by the negative of the gradient. In machine learning, we use gradient descent to update the parameters of our model.*\n",
    "\n",
    "#### Optimizer\n",
    "\n",
    "We may sometimes see the term optimizer or optimization function. This is simply the function that implements the backpropagation algorithm described above. Here's a list of a few common ones:\n",
    "\n",
    "* Gradient Descent\n",
    "* Stochastic Gradient Descent\n",
    "* Mini-Batch Gradient Descent\n",
    "* Momentum\n",
    "* Nesterov Accelerated Gradient\n",
    "\n",
    "\n",
    "**NOTE:**\n",
    "\n",
    "*I will be passing more information and changing things while I learn, so this notebook alongside with all the other notebooks in the tensorflow directory will be continuously updated*. \n",
    "\n",
    "## Let's build and train a basic neural network\n",
    "\n",
    "For more info about coding a NN see [link](https://www.tensorflow.org/tutorials/keras/classification). This is where I got the dataset and coding information from.\n",
    "\n",
    "### Dataset that will be used here\n",
    "\n",
    "I will use the MNIST Fashion Dataset. This is a dataset that is included in keras, it includes 60,000 images for training and 10,000 images for validation/testing."
   ]
  },
  {
   "cell_type": "code",
   "execution_count": 3,
   "metadata": {},
   "outputs": [],
   "source": [
    "# load the dataset\n",
    "fashion_mnist = keras.datasets.fashion_mnist\n",
    "\n",
    "# split data into training and testing\n",
    "(train_images, train_labels), (test_images, test_labels) = fashion_mnist.load_data()"
   ]
  },
  {
   "cell_type": "markdown",
   "metadata": {},
   "source": [
    "Let's take a look at the data to see what we are goingto work with:"
   ]
  },
  {
   "cell_type": "code",
   "execution_count": 4,
   "metadata": {},
   "outputs": [
    {
     "data": {
      "text/plain": [
       "(60000, 28, 28)"
      ]
     },
     "execution_count": 4,
     "metadata": {},
     "output_type": "execute_result"
    }
   ],
   "source": [
    "train_images.shape"
   ]
  },
  {
   "cell_type": "markdown",
   "metadata": {},
   "source": [
    "so, in train_images we have 60000 images of 28x28 pixels (this will be 784 input neurons for each image)"
   ]
  },
  {
   "cell_type": "code",
   "execution_count": 5,
   "metadata": {},
   "outputs": [
    {
     "data": {
      "text/plain": [
       "194"
      ]
     },
     "execution_count": 5,
     "metadata": {},
     "output_type": "execute_result"
    }
   ],
   "source": [
    "# let's take a look at 1 pixel:\n",
    "train_images[0,23,23] # 1st image, row 23, column 23"
   ]
  },
  {
   "cell_type": "markdown",
   "metadata": {},
   "source": [
    "The dataset contains grayscale images only (no colour channels). Now, the values at each pixel are between 0 and 255 where 0 is black and 255 is white, the pixel we chose is close to white."
   ]
  },
  {
   "cell_type": "code",
   "execution_count": 6,
   "metadata": {},
   "outputs": [
    {
     "data": {
      "text/plain": [
       "array([9, 0, 0, 3, 0, 2, 7, 2, 5, 5], dtype=uint8)"
      ]
     },
     "execution_count": 6,
     "metadata": {},
     "output_type": "execute_result"
    }
   ],
   "source": [
    "# have a look at the first few training labels:\n",
    "train_labels[:10]"
   ]
  },
  {
   "cell_type": "markdown",
   "metadata": {},
   "source": [
    "**So, what are our labels made of?**\n",
    "\n",
    "We have an array of integers between 0 and 9. What do these numbers represent?\n",
    "\n",
    "They represent a specific piece of clothing. Let's create an array of label names to indicate each one of them:"
   ]
  },
  {
   "cell_type": "code",
   "execution_count": 7,
   "metadata": {},
   "outputs": [
    {
     "name": "stdout",
     "output_type": "stream",
     "text": [
      "['T-shirt/top', 'Trouser', 'Pullover', 'Dress', 'Coat', 'Sandal', 'Shirt', 'Sneaker', 'Bag', 'Ankle boot']\n"
     ]
    }
   ],
   "source": [
    "class_names = ['T-shirt/top', 'Trouser', 'Pullover', 'Dress', 'Coat',\n",
    "              'Sandal', 'Shirt', 'Sneaker', 'Bag', 'Ankle boot']\n",
    "\n",
    "print(class_names)"
   ]
  },
  {
   "cell_type": "markdown",
   "metadata": {},
   "source": [
    "Now let's look at what some of these images look like: "
   ]
  },
  {
   "cell_type": "code",
   "execution_count": 8,
   "metadata": {},
   "outputs": [
    {
     "data": {
      "image/png": "[encoded data removed]",
      "text/plain": [
       "<Figure size 432x288 with 2 Axes>"
      ]
     },
     "metadata": {
      "needs_background": "light"
     },
     "output_type": "display_data"
    }
   ],
   "source": [
    "plt.figure()\n",
    "plt.imshow(train_images[0]) # let's look at the 2nd image of our training dataset\n",
    "plt.colorbar()\n",
    "plt.grid(False)\n",
    "plt.show()"
   ]
  },
  {
   "cell_type": "markdown",
   "metadata": {},
   "source": [
    "### Data Preprocessing \n",
    "\n",
    "The last step before creating the model is to **preprocess** our data. This simply means applying some prior transformations to our data before passing them to the model. \n",
    "\n",
    "Here, I will simply scale all our greyscale pixel values (0-255) to be between 0 and 1. This can be done by dividing each value in the training and testing sets by 255.0. \n",
    "\n",
    "*Why would we want our input data to be between 0 and 1?*\n",
    "\n",
    "Typically, it is a good idea to have your input data in between that range. The reason is because when the neural network starts the tarining process, the (random) values of the trainable parameters w and b are in that range. If we pass large input values (0-255 for example) and tiny weights and biases it will be dificult for the network to classify that information because it will need to work harder to update those weights and biases to reduce how large those values are going to be. \n",
    "\n",
    "So, the smaller the values we pass to the Network, the easier it is for the Network to process them."
   ]
  },
  {
   "cell_type": "code",
   "execution_count": 9,
   "metadata": {},
   "outputs": [],
   "source": [
    "train_images = train_images / 255.0\n",
    "\n",
    "test_images = test_images / 255.0 # make sure that your testing data comes in the same form as your training data"
   ]
  },
  {
   "cell_type": "code",
   "execution_count": 10,
   "metadata": {},
   "outputs": [
    {
     "data": {
      "text/plain": [
       "0.14901960784313725"
      ]
     },
     "execution_count": 10,
     "metadata": {},
     "output_type": "execute_result"
    }
   ],
   "source": [
    "# take a look at the new values\n",
    "train_images[34, 13, 13]"
   ]
  },
  {
   "cell_type": "markdown",
   "metadata": {},
   "source": [
    "### Building the Network\n",
    "\n",
    "Now it's time to build the model, woohoo! \n",
    "I am going to use a **keras sequential** model with three different layers. This model represents a feed-forward neural network (which means that it passes values from left to right). \n",
    "\n",
    "I'll break down each layer and its architecture later"
   ]
  },
  {
   "cell_type": "code",
   "execution_count": 12,
   "metadata": {},
   "outputs": [
    {
     "name": "stdout",
     "output_type": "stream",
     "text": [
      "<tensorflow.python.keras.engine.sequential.Sequential object at 0x108f61f90>\n"
     ]
    }
   ],
   "source": [
    "model = keras.Sequential([\n",
    "    keras.layers.Flatten(input_shape = (28, 28)),  # input layer (1)\n",
    "    keras.layers.Dense(128, activation = 'relu'),  # hidden layer (2)\n",
    "    keras.layers.Dense(10, activation = 'softmax') # output layer (3)                   \n",
    "])\n",
    "\n",
    "print(model)"
   ]
  },
  {
   "cell_type": "markdown",
   "metadata": {},
   "source": [
    "So let's break down the above code. \n",
    "\n",
    "Here I am using the **Sequential method** of keras, which is the most basic form of neural networks. The information here flows sequentially, passing from left to the right (note, in other notebooks I will also play around with recurent and convolutional neural networks). For more information about this method see [link](https://keras.io/models/sequential/). \n",
    "\n",
    "After defining the method, we need to define the layers of the model:\n",
    "* 1st layer: This is the input layer. *What does **flatten** mean here?*\n",
    "\n",
    "Well, **flatten** allows us to take the input shape (which is defined as 28x28 pixels) and flatten all the pixels into 784. This will result in a single value per input neuron.\n",
    "\n",
    "* 2nd layer: This is our (first) hidden layer and it is a **dense** layer. This mean that every neuron of that layer will be connected to all the neurons of the previous layer (the input layer). \n",
    "\n",
    "This layer consists of 128 neurons. *Why*? I have no idea. This code was taken directly from the tensorflow documentation and they don't axplain why they came up with that number. Anyhow, normally we would not want our hidden layer to have **much** larger number of neurons than the input layer (I think!).\n",
    "\n",
    "Lastly, we chose the **ReLU** activation function, which gives values of zero when tehry are negative and values of 1 when they positive. Remember, this functions is prefered in the hidden layers.\n",
    "\n",
    "* 3rd layer: This is our output layer, which is also dense. \n",
    "\n",
    "This layer has 10 neurons. *Why?*\n",
    "Well, our label consists of 10 values representing 10 different types of clothing (can also be called classes). So, the output layer has the predictions of the type of clothing for each image by giving a value (between 0 and 1) for each of the types/classes. **Remember the probability distribution?**\n",
    "\n",
    "Lastly, the activation function chosen here is **softmax**. The reason is because we are going to have a probability distribution for our 10 classes. Softmax is the function that makes sure all the values in the output neurons add up to 1 and that they are between 0 and 1. For more information about this function check [link](https://www.machinecurve.com/index.php/2020/01/08/how-does-the-softmax-activation-function-work/) \n",
    "\n",
    "### Compile the Model\n",
    "\n",
    "Now that the model is almost ready, we have built the architecture of the model and now, we just need to compile it. This means that we need define the loss function, optimizer and metrics we would like to track."
   ]
  },
  {
   "cell_type": "code",
   "execution_count": 13,
   "metadata": {},
   "outputs": [],
   "source": [
    "model.compile(optimizer = 'adam',\n",
    "             loss = 'sparse_categorical_crossentropy',\n",
    "             metrics = ['accuracy'])"
   ]
  },
  {
   "cell_type": "markdown",
   "metadata": {},
   "source": [
    "Let's see what we did above. \n",
    "\n",
    "* Optimizer: The algorithm we are using is the **adam** which performs gradient descent (see information in the beginning). \n",
    "\n",
    "* loss: Here we use the **sparse_categorical_crossentropy**. *Why?*\n",
    "\n",
    "Because our **targets** are in categorical format. We have 10 classes, the target-class for each sample is in a 10-dimensional vector that is all-zeros except for a 1 at the index corresponding to the class of the sample. \n",
    "\n",
    "* metrics: this is the output that we want to see (which is **accuracy** in our case). \n",
    "\n",
    "### Training the Model\n",
    "\n",
    "Now it is time to finally train the model. Since we've already done all the work on our data this step is as easy as calling a single method."
   ]
  },
  {
   "cell_type": "code",
   "execution_count": 14,
   "metadata": {},
   "outputs": [
    {
     "name": "stdout",
     "output_type": "stream",
     "text": [
      "Train on 60000 samples\n",
      "Epoch 1/10\n",
      "60000/60000 [==============================] - 4s 74us/sample - loss: 0.4995 - accuracy: 0.8238\n",
      "Epoch 2/10\n",
      "60000/60000 [==============================] - 3s 55us/sample - loss: 0.3762 - accuracy: 0.8647\n",
      "Epoch 3/10\n",
      "60000/60000 [==============================] - 3s 55us/sample - loss: 0.3375 - accuracy: 0.8778\n",
      "Epoch 4/10\n",
      "60000/60000 [==============================] - 3s 55us/sample - loss: 0.3150 - accuracy: 0.8852\n",
      "Epoch 5/10\n",
      "60000/60000 [==============================] - 3s 55us/sample - loss: 0.2971 - accuracy: 0.8903\n",
      "Epoch 6/10\n",
      "60000/60000 [==============================] - 3s 55us/sample - loss: 0.2824 - accuracy: 0.8945\n",
      "Epoch 7/10\n",
      "60000/60000 [==============================] - 3s 55us/sample - loss: 0.2711 - accuracy: 0.8991\n",
      "Epoch 8/10\n",
      "60000/60000 [==============================] - 3s 56us/sample - loss: 0.2593 - accuracy: 0.9032\n",
      "Epoch 9/10\n",
      "60000/60000 [==============================] - 3s 56us/sample - loss: 0.2507 - accuracy: 0.9063\n",
      "Epoch 10/10\n",
      "60000/60000 [==============================] - 3s 55us/sample - loss: 0.2412 - accuracy: 0.9091\n"
     ]
    },
    {
     "data": {
      "text/plain": [
       "<tensorflow.python.keras.callbacks.History at 0x129b50890>"
      ]
     },
     "execution_count": 14,
     "metadata": {},
     "output_type": "execute_result"
    }
   ],
   "source": [
    "# now just pass the training data, labels and epochs and wait for the magic to happen!\n",
    "model.fit(train_images, train_labels, epochs = 10)"
   ]
  },
  {
   "cell_type": "markdown",
   "metadata": {},
   "source": [
    "Lets start with the accuracy..\n",
    "We se that during the last epoch our accuracy is 91% but, this is the accuracy on our **training data**. If we want to find out what our true accuracy is, we need to evaluate the model on our testing data.\n",
    "\n",
    "### Evaluating the Model\n",
    "\n",
    "Evaluate the model:"
   ]
  },
  {
   "cell_type": "code",
   "execution_count": null,
   "metadata": {},
   "outputs": [],
   "source": [
    "test_loss, test_acc = model.evaluate(test_images,  test_labels, verbose=1) \n",
    "\n",
    "print('Test accuracy:', test_acc)"
   ]
  },
  {
   "cell_type": "markdown",
   "metadata": {},
   "source": [
    "What does **verbose** mean?\n",
    "It is simply the amount of information that we are seeing as the model evaluates.. or how much information is printed at the console.\n",
    "Here we see the loss and test accuracy. \n",
    "\n",
    "Now, we see that the test accuracy is less than the training accuracy. \n",
    "\n",
    "This is an example of something called **overfitting**. \n",
    "\n",
    "Our model seemed to do pretty well on the training data but that is because it would see that data often (10 times in our case). Once we passed new data that it had not seen before its accuracy droped to 88%. This means that we quite overfit our model and it is not good at generalizing for other datasets which is usually the goal. \n",
    "\n",
    "When we create a new model we want the highest possible accuracy when training but we also want consistency in the accuracy when evaluating the model with new datasets. We need to make sure that the model generilizes properly. \n",
    "\n",
    "### Making predictions with our Model\n",
    "\n",
    "Making predictions is very easy. We are going to use the ```.predict()``` method adn we will just pass an array of data **in the form** we've specified in the input layer. "
   ]
  },
  {
   "cell_type": "code",
   "execution_count": 16,
   "metadata": {},
   "outputs": [],
   "source": [
    "predictions = model.predict(test_images)"
   ]
  },
  {
   "cell_type": "markdown",
   "metadata": {},
   "source": [
    "This method returns to us an array of predictions for each image we passed it. Let's have a look at the predictions for image 1:"
   ]
  },
  {
   "cell_type": "code",
   "execution_count": 17,
   "metadata": {},
   "outputs": [
    {
     "data": {
      "text/plain": [
       "array([6.1212631e-06, 1.9841859e-09, 1.5529619e-09, 7.3351047e-12,\n",
       "       3.3427096e-07, 2.1180979e-03, 8.9291859e-08, 4.1311856e-02,\n",
       "       4.1508002e-07, 9.5656300e-01], dtype=float32)"
      ]
     },
     "execution_count": 17,
     "metadata": {},
     "output_type": "execute_result"
    }
   ],
   "source": [
    "predictions[0]"
   ]
  },
  {
   "cell_type": "markdown",
   "metadata": {},
   "source": [
    "Let's start with the fact that we have 10 values in the array. *Why is that?*\n",
    "\n",
    "Well, we have 10 classes, 10 output neurons and, we wanted our model to give us a *prediction value* for each class. So the output here (this array) is the probability distribution that we have calculated for this image (1st image). \n",
    "\n",
    "Now, these values are really tiny. If we want to look at the largest of the values (let's keep on looking at this same image) we would need to specify it using a numpy function calle ```argmax()```. This will return us the **index** of the maximum value for this array:"
   ]
  },
  {
   "cell_type": "code",
   "execution_count": 18,
   "metadata": {},
   "outputs": [
    {
     "data": {
      "text/plain": [
       "9"
      ]
     },
     "execution_count": 18,
     "metadata": {},
     "output_type": "execute_result"
    }
   ],
   "source": [
    "np.argmax(predictions[0])"
   ]
  },
  {
   "cell_type": "markdown",
   "metadata": {},
   "source": [
    "We see that the value for the last class (which is ankle boot) has the highst probability, and if we go back to the part where I plot the images, we'll see that the 1st image was indeed an ankle boot!"
   ]
  },
  {
   "cell_type": "code",
   "execution_count": 20,
   "metadata": {},
   "outputs": [
    {
     "data": {
      "image/png": "[encoded data removed]",
      "text/plain": [
       "<Figure size 432x288 with 2 Axes>"
      ]
     },
     "metadata": {
      "needs_background": "light"
     },
     "output_type": "display_data"
    }
   ],
   "source": [
    "plt.figure()\n",
    "plt.imshow(test_images[0]) # let's look at the 1nd image of our testing dataset\n",
    "plt.colorbar()\n",
    "plt.grid(False)\n",
    "plt.show()"
   ]
  },
  {
   "cell_type": "code",
   "execution_count": 21,
   "metadata": {},
   "outputs": [
    {
     "name": "stdout",
     "output_type": "stream",
     "text": [
      "Ankle boot\n"
     ]
    }
   ],
   "source": [
    "# to see if the class is indeed ankle boot:\n",
    "print(class_names[np.argmax(predictions[0])])"
   ]
  },
  {
   "cell_type": "markdown",
   "metadata": {},
   "source": [
    "We can test any of the predictions with the testing images by changing the values in ```print(class_names[np.argmax(predictions[])])``` and in ```plt.imshow(test_images[0])```\n",
    "\n",
    "### Playing around with the model and making predictions\n",
    "\n",
    "Below is a script that I stole from the TesnorFlow 2.0 course. This script uses our model to make predictions on any entry/image that we want. The user just needs to type a number (0-999), the script will find the image that corresponds to that number in the **test dataset**, it will make a prediction from the model that we created and it will show us what that image actually was vs what it was predicted to be:"
   ]
  },
  {
   "cell_type": "code",
   "execution_count": 25,
   "metadata": {},
   "outputs": [
    {
     "name": "stdout",
     "output_type": "stream",
     "text": [
      "Pick a number: 10\n"
     ]
    },
    {
     "data": {
      "image/png": "[encoded data removed]",
      "text/plain": [
       "<Figure size 432x288 with 2 Axes>"
      ]
     },
     "metadata": {
      "needs_background": "light"
     },
     "output_type": "display_data"
    }
   ],
   "source": [
    "COLOR = 'white'\n",
    "plt.rcParams['text.color'] = COLOR\n",
    "plt.rcParams['axes.labelcolor'] = COLOR\n",
    "\n",
    "def predict(model, image, correct_label):\n",
    "    class_names = ['T-shirt/top', 'Trouser', 'Pullover', 'Dress', 'Coat',\n",
    "                   'Sandal', 'Shirt', 'Sneaker', 'Bag', 'Ankle boot']\n",
    "    prediction = model.predict(np.array([image]))\n",
    "    predicted_class = class_names[np.argmax(prediction)]\n",
    "    \n",
    "    show_image(image, class_names[correct_label], predicted_class)\n",
    "\n",
    "\n",
    "def show_image(img, label, guess):\n",
    "    \n",
    "    plt.figure()\n",
    "    plt.imshow(img, cmap=plt.cm.binary)\n",
    "    plt.title(\"Excpected: \" + label)\n",
    "    plt.xlabel(\"Guess: \" + guess)\n",
    "    plt.colorbar()\n",
    "    plt.grid(False)\n",
    "    plt.show()\n",
    "\n",
    "\n",
    "def get_number():\n",
    "    \n",
    "    while True:\n",
    "        num = input(\"Pick a number: \")\n",
    "        if num.isdigit():\n",
    "            num = int(num)\n",
    "            if 0 <= num <= 1000:\n",
    "                return int(num)\n",
    "            else:\n",
    "                print(\"Try again...\")\n",
    "    \n",
    "num = get_number()\n",
    "image = test_images[num]\n",
    "label = test_labels[num]\n",
    "predict(model, image, label)"
   ]
  },
  {
   "cell_type": "code",
   "execution_count": null,
   "metadata": {},
   "outputs": [],
   "source": []
  }
 ],
 "metadata": {
  "kernelspec": {
   "display_name": "Python 3",
   "language": "python",
   "name": "python3"
  },
  "language_info": {
   "codemirror_mode": {
    "name": "ipython",
    "version": 3
   },
   "file_extension": ".py",
   "mimetype": "text/x-python",
   "name": "python",
   "nbconvert_exporter": "python",
   "pygments_lexer": "ipython3",
   "version": "3.7.7"
  }
 },
 "nbformat": 4,
 "nbformat_minor": 4
}
